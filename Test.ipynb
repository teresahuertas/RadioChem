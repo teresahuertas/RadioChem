{
 "cells": [
  {
   "cell_type": "code",
   "execution_count": 4,
   "metadata": {},
   "outputs": [],
   "source": [
    "import pandas as pd\n",
    "import matplotlib.pyplot as plt\n",
    "import catalogues as cat\n",
    "#import spectrumfit as spf\n",
    "\n",
    "from tqdm import tqdm"
   ]
  },
  {
   "cell_type": "markdown",
   "metadata": {},
   "source": [
    "Análisis de los catálogos de líneas"
   ]
  },
  {
   "cell_type": "code",
   "execution_count": 6,
   "metadata": {},
   "outputs": [
    {
     "name": "stderr",
     "output_type": "stream",
     "text": [
      "Reading catalogues...: 100%|██████████| 3/3 [00:07<00:00,  2.50s/it]"
     ]
    },
    {
     "name": "stdout",
     "output_type": "stream",
     "text": [
      "Catalogues read successfully!\n"
     ]
    },
    {
     "name": "stderr",
     "output_type": "stream",
     "text": [
      "\n"
     ]
    }
   ],
   "source": [
    "# Set number of catalogues to work with\n",
    "ncat = 3\n",
    "\n",
    "for i in tqdm (range (ncat), desc='Reading catalogues...'):\n",
    "    rrls = cat.Catalogue('rrls')\n",
    "    ic418 = cat.Catalogue('IC418')\n",
    "    ngc7027 = cat.Catalogue('NGC_7027')\n",
    "print('Catalogues read successfully!')"
   ]
  },
  {
   "cell_type": "code",
   "execution_count": 7,
   "metadata": {},
   "outputs": [
    {
     "name": "stdout",
     "output_type": "stream",
     "text": [
      "      Status     Species   Freq[MHz] Upper Lower  Origin Telescope\n",
      "0          C     H186\\ga    1013.767   187   186  rrline      None\n",
      "1          C     H185\\ga    1030.251   186   185  rrline      None\n",
      "2          C     H184\\ga    1047.094   185   184  rrline      None\n",
      "3          C     H183\\ga    1064.307   184   183  rrline      None\n",
      "4          C     H182\\ga    1081.898   183   182  rrline      None\n",
      "...      ...         ...         ...   ...   ...     ...       ...\n",
      "18912      C  OIII142\\gb  364535.250   144   142  rrline      None\n",
      "18913      C  OIII141\\gb  372291.562   143   141  rrline      None\n",
      "18914      C  OIII140\\gb  380269.500   142   140  rrline      None\n",
      "18915      C  OIII139\\gb  388477.031   141   139  rrline      None\n",
      "18916      C  OIII138\\gb  396922.469   140   138  rrline      None\n",
      "\n",
      "[18917 rows x 7 columns]\n",
      "    Status     Species  Freq[MHz] Upper Lower  Origin Band   Telescope\n",
      "0        D      H92\\ga   8309.383    93    92  rrline    X        None\n",
      "1        D      H91\\ga   8584.820    92    91  rrline    X        None\n",
      "2        D      H58\\ga  32852.199    59    58  rrline    Q    Yebes40m\n",
      "3        D      H57\\ga  34596.383    58    57  rrline    Q    Yebes40m\n",
      "4        D      H56\\ga  36466.262    57    56  rrline    Q    Yebes40m\n",
      "..     ...         ...        ...   ...   ...     ...  ...         ...\n",
      "235      ?  CIII234\\gb  82131.984   236   234  rrline  3mm  IRAM30m-E0\n",
      "236      ?  OIII254\\ga  32330.703   255   254  rrline    Q    Yebes40m\n",
      "237      ?  OIII240\\ga  38311.898   241   240  rrline    Q    Yebes40m\n",
      "238      ?  OIII302\\gb  38316.578   304   302  rrline    Q    Yebes40m\n",
      "239      ?  OIII234\\gb  82132.922   236   234  rrline  3mm  IRAM30m-E0\n",
      "\n",
      "[240 rows x 8 columns]\n",
      "    Status         Species   Freq[MHz]         Upper         Lower Origin  \\\n",
      "0        F            13CH  137319.552    11-1121212    11 1121213    jpl   \n",
      "1        ?  Al-26-O, v=1,2   38146.758         1 2 1         0 2 1   cdms   \n",
      "2        F        AlO, v=0   38308.902         1 0 2         0 0 1   cdms   \n",
      "3        F        C-13-C5H  138743.757    51 1525152    50-1515051   cdms   \n",
      "4        F        C-13-C5H  138743.807    51 1525151    50-1515050   cdms   \n",
      "..     ...             ...         ...           ...           ...    ...   \n",
      "387      F           c-C5H  138649.124    21 1212221    20 1202120   cdms   \n",
      "388      F          c-C5H6   84799.812        261610        261511   cdms   \n",
      "389      F          c-C5H6   84799.812        261710        261611   cdms   \n",
      "390      F      c-CCC-13-H  131900.627  10 5 510 910  10 5 610 910    jpl   \n",
      "391      F       c-HC(O)SH   35173.620         3 2 1         2 2 0   cdms   \n",
      "\n",
      "    Band   Telescope  \n",
      "0    2mm  IRAM30m-E1  \n",
      "1      Q    Yebes40m  \n",
      "2      Q    Yebes40m  \n",
      "3    2mm  IRAM30m-E1  \n",
      "4    2mm  IRAM30m-E1  \n",
      "..   ...         ...  \n",
      "387  2mm  IRAM30m-E1  \n",
      "388  3mm  IRAM30m-E0  \n",
      "389  3mm  IRAM30m-E0  \n",
      "390  2mm  IRAM30m-E1  \n",
      "391    Q    Yebes40m  \n",
      "\n",
      "[392 rows x 8 columns]\n",
      "   Status   Species   Freq[MHz] Upper Lower  Origin  Band   Telescope\n",
      "0       ?     U-830     830.000     1     0  unknow  None        None\n",
      "1       ?   U-31701   31701.618     1     0  unknow     Q    Yebes40m\n",
      "2       ?   U-32475   32475.845     1     0  unknow     Q    Yebes40m\n",
      "3       ?   U-32858   32858.308     1     0  unknow     Q    Yebes40m\n",
      "4       ?   U-33437   33437.844     1     0  unknow     Q    Yebes40m\n",
      "5       ?   U-33818   33818.758     1     0  unknow     Q    Yebes40m\n",
      "6       ?   U-33911   33911.344     1     0  unknow     Q    Yebes40m\n",
      "7       ?   U-34942   34942.762     1     0  unknow     Q    Yebes40m\n",
      "8       ?   U-36635   36635.432     1     0  unknow     Q    Yebes40m\n",
      "9       ?   U-37242   37242.213     1     0  unknow     Q    Yebes40m\n",
      "10      ?   U-37841   37841.559     1     0  unknow     Q    Yebes40m\n",
      "11      ?   U-37918   37918.012     1     0  unknow     Q    Yebes40m\n",
      "12      ?   U-38504   38504.338     1     0  unknow     Q    Yebes40m\n",
      "13      ?   U-38634   38634.997     1     0  unknow     Q    Yebes40m\n",
      "14      ?   U-39984   39984.210     1     0  unknow     Q    Yebes40m\n",
      "15      ?   U-42101   42101.938     1     0  unknow     Q    Yebes40m\n",
      "16      ?   U-42410   42410.438     1     0  unknow     Q    Yebes40m\n",
      "17      ?   U-42426   42426.468     1     0  unknow     Q    Yebes40m\n",
      "18      ?   U-42983   42983.159     1     0  unknow     Q    Yebes40m\n",
      "19      ?   U-43743   43743.513     1     0  unknow     Q    Yebes40m\n",
      "20      ?   U-44028   44028.278     1     0  unknow     Q    Yebes40m\n",
      "21      ?   U-45199   45199.577     1     0  unknow     Q    Yebes40m\n",
      "22      ?   U-45763   45763.101     1     0  unknow     Q    Yebes40m\n",
      "23      ?   U-45954   45954.113     1     0  unknow     Q    Yebes40m\n",
      "24      ?   U-46877   46877.753     1     0  unknow     Q    Yebes40m\n",
      "25      ?   U-47746   47746.814     1     0  unknow     Q    Yebes40m\n",
      "26      ?   U-47755   47755.487     1     0  unknow     Q    Yebes40m\n",
      "27      ?   U-47767   47767.297     1     0  unknow     Q    Yebes40m\n",
      "28      ?   U-47910   47910.029     1     0  unknow     Q    Yebes40m\n",
      "29      ?   U-47917   47917.831     1     0  unknow     Q    Yebes40m\n",
      "30      ?   U-49722   49722.802     1     0  unknow     Q    Yebes40m\n",
      "31      T   U-82123   82123.979   117   101  rrline   3mm  IRAM30m-E0\n",
      "32      ?   U-82971   82971.375     1     0  unknow   3mm  IRAM30m-E0\n",
      "33      ?   U-83009   83009.914     1     0  unknow   3mm  IRAM30m-E0\n",
      "34      ?   U-83078   83078.842     1     0  unknow   3mm  IRAM30m-E0\n",
      "35      ?   U-83383   83383.746     1     0  unknow   3mm  IRAM30m-E0\n",
      "36      ?   U-83398   83398.749     1     0  unknow   3mm  IRAM30m-E0\n",
      "37      ?   U-83744   83744.812     1     0  unknow   3mm  IRAM30m-E0\n",
      "38      ?   U-84613   84613.672     1     0  unknow   3mm  IRAM30m-E0\n",
      "39      ?   U-86526   86526.182     1     0  unknow   3mm  IRAM30m-E0\n",
      "40      ?   U-87153   87153.023     1     0  unknow   3mm  IRAM30m-E0\n",
      "41      ?   U-87578   87578.312     1     0  unknow   3mm  IRAM30m-E0\n",
      "42      ?   U-88427   88427.195     1     0  unknow   3mm  IRAM30m-E0\n",
      "43      ?  U-133205  133205.387     1     0  unknow   2mm  IRAM30m-E1\n",
      "44      ?  U-136062  136062.293     1     0  unknow   2mm  IRAM30m-E1\n",
      "45      D  U-139051  139051.487     1     0  unknow   2mm  IRAM30m-E1\n"
     ]
    }
   ],
   "source": [
    "print(rrls.catalogue)\n",
    "print(ic418.rrls)\n",
    "print(ngc7027.molecules)\n",
    "print(ngc7027.uf)"
   ]
  },
  {
   "cell_type": "markdown",
   "metadata": {},
   "source": [
    "Ajuste de espectros observacionales"
   ]
  },
  {
   "cell_type": "code",
   "execution_count": null,
   "metadata": {},
   "outputs": [],
   "source": [
    "files = ['IC418_3mm_tmb_fit_velocity.txt']#, 'IC418_2mm_tmb_fit_velocity.txt']\n",
    "\n",
    "spectrum = sf.read_spectrum(1, files)\n",
    "spectrum = sf.create_spectrum(spectrum, 87317.0, 42.59999847412109)\n",
    "\n",
    "plt.plot(spectrum.spectral_axis, spectrum.flux)\n",
    "plt.xlabel(spectrum.spectral_axis.unit)\n",
    "plt.ylabel(spectrum.flux.unit)\n",
    "plt.show()"
   ]
  },
  {
   "cell_type": "markdown",
   "metadata": {},
   "source": [
    "Detección automática de líneas"
   ]
  },
  {
   "cell_type": "code",
   "execution_count": null,
   "metadata": {},
   "outputs": [],
   "source": [
    "lines = sf.line_inspector(spectrum, 0.002, 'IC418', 'emission')\n",
    "#print(lines)\n",
    "\n",
    "sf.plot_spectrum(spectrum, lines)\n",
    "\n",
    "#freq = sf.line_freq_width(87317.0, 60)\n",
    "#print(freq)"
   ]
  }
 ],
 "metadata": {
  "kernelspec": {
   "display_name": "Python 3",
   "language": "python",
   "name": "python3"
  },
  "language_info": {
   "codemirror_mode": {
    "name": "ipython",
    "version": 3
   },
   "file_extension": ".py",
   "mimetype": "text/x-python",
   "name": "python",
   "nbconvert_exporter": "python",
   "pygments_lexer": "ipython3",
   "version": "3.12.0"
  }
 },
 "nbformat": 4,
 "nbformat_minor": 2
}
